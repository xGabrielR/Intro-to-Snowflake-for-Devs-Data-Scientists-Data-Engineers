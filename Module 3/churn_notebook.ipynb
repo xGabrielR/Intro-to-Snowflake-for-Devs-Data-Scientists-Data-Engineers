{
 "metadata": {
  "kernelspec": {
   "display_name": "Streamlit Notebook",
   "name": "streamlit"
  }
 },
 "nbformat_minor": 5,
 "nbformat": 4,
 "cells": [
  {
   "cell_type": "code",
   "id": "3775908f-ca36-4846-8f38-5adca39217f2",
   "metadata": {
    "language": "python",
    "name": "cell1",
    "collapsed": false
   },
   "source": "import pandas as pd\nimport snowflake.snowpark as snowpark\n\nfrom matplotlib import pyplot as plt\n\nfrom sklearn.tree import DecisionTreeClassifier\nfrom sklearn.ensemble import RandomForestClassifier\nfrom sklearn.linear_model import LogisticRegression\n\nfrom sklearn.model_selection import StratifiedKFold\n\nfrom scikitplot.metrics import (\n    plot_roc_curve,\n    plot_lift_curve,\n    plot_precision_recall,\n    plot_ks_statistic,\n    plot_confusion_matrix\n)\n\nfrom warnings import filterwarnings\nfrom snowflake.snowpark.context import get_active_session\nsession = get_active_session()\nfilterwarnings(\"ignore\")\n",
   "execution_count": null,
   "outputs": []
  },
  {
   "cell_type": "code",
   "id": "84ff2231-8c49-4e1a-934f-0a9969d103cc",
   "metadata": {
    "language": "python",
    "name": "cell2",
    "codeCollapsed": false
   },
   "outputs": [],
   "source": "df = session.table(\"tasty_bytes.analytics.customer_churn\").toPandas()\n\ndf.head()",
   "execution_count": null
  },
  {
   "cell_type": "code",
   "id": "a942aaca-5e2e-49af-a024-badec1d017c1",
   "metadata": {
    "language": "python",
    "name": "cell6",
    "codeCollapsed": false
   },
   "outputs": [],
   "source": "cols = [\n    \"CUSTOMER_ID\",\n    \"LTV\",\n    \"AVG_TICKET\",\n    \"QUANTITY_UNIQUE_LOCATION\",\n    \"QUANTITY_UNIQUE_TRUCKS\",\n    \"TOTAL_QUANTITY_PRODUCTS\",\n    \"MIN_QUANTITY_PRODUCTS\",\n    \"MAX_QUANTITY_PRODUCTS\",\n    \"TOTAL_UNIT_PRICE\",\n    \"MIN_UNIT_PRICE\",\n    \"MAX_UNIT_PRICE\",\n]\n\ntarget_col = [\"CHURN\"]\n\nX = df[cols]\ny = df[target_col]",
   "execution_count": null
  },
  {
   "cell_type": "code",
   "id": "881b8cda-7332-4691-94e1-5ad9fb400e12",
   "metadata": {
    "language": "python",
    "name": "cell8",
    "collapsed": false,
    "codeCollapsed": false
   },
   "outputs": [],
   "source": "skf = StratifiedKFold(n_splits=2, shuffle=True, random_state=42)\n\nfor train_index, test_index in skf.split(X, y):\n    X_train, X_test = X.iloc[train_index], X.iloc[test_index]\n    y_train, y_test = y.iloc[train_index], y.iloc[test_index]\n\nprint(df[\"CHURN\"].value_counts())\nprint(y_test[\"CHURN\"].value_counts())\nprint(y_train[\"CHURN\"].value_counts())",
   "execution_count": null
  },
  {
   "cell_type": "code",
   "id": "e3b71e62-02ed-4f41-a248-f9476b3fe9df",
   "metadata": {
    "language": "python",
    "name": "cell9"
   },
   "outputs": [],
   "source": "X_train.head(2)",
   "execution_count": null
  },
  {
   "cell_type": "code",
   "id": "022dfa63-aefa-43b8-937d-803bbfb365d5",
   "metadata": {
    "language": "python",
    "name": "cell10",
    "collapsed": false
   },
   "outputs": [],
   "source": "X_train_b = pd.concat([\n    X_train[y_train[\"CHURN\"] == 0].head(y_train[\"CHURN\"].sum()),\n    X_train[y_train[\"CHURN\"] == 1]\n], axis=0)\n\ny_train_b = y_train[y_train.index.isin(X_train_b.index)]\n\ny_train_b[\"CHURN\"].value_counts()",
   "execution_count": null
  },
  {
   "cell_type": "code",
   "id": "4340366c-a495-4c1b-a80d-fcb152fd3c1e",
   "metadata": {
    "language": "python",
    "name": "cell3",
    "collapsed": false
   },
   "outputs": [],
   "source": "#est = DecisionTreeClassifier(max_depth=10)\nest = RandomForestClassifier(n_estimators=5, max_depth=50)\nest.fit(X_train.drop(columns=[\"CUSTOMER_ID\"]), y_train)\n\ntrain_probas = est.predict_proba(X_train.drop(columns=[\"CUSTOMER_ID\"]))\ntest_probas = est.predict_proba(X_test.drop(columns=[\"CUSTOMER_ID\"]))\n\ntrain_pred = est.predict(X_train.drop(columns=[\"CUSTOMER_ID\"]))\ntest_pred = est.predict(X_test.drop(columns=[\"CUSTOMER_ID\"]))",
   "execution_count": null
  },
  {
   "cell_type": "code",
   "id": "155a17f3-4c60-46a3-b4b5-a0a844b587d2",
   "metadata": {
    "language": "python",
    "name": "cell5",
    "codeCollapsed": false,
    "collapsed": false
   },
   "outputs": [],
   "source": "plot_roc_curve(y_train, train_probas)\nplot_lift_curve(y_train, train_probas)\nplot_precision_recall(y_train, train_probas)\nplot_ks_statistic(y_train, train_probas)\nplot_confusion_matrix(y_train, train_pred)",
   "execution_count": null
  },
  {
   "cell_type": "code",
   "id": "ddeace83-4bc3-4649-b724-e46af5f18234",
   "metadata": {
    "language": "python",
    "name": "cell7",
    "codeCollapsed": false,
    "collapsed": false
   },
   "outputs": [],
   "source": "plot_roc_curve(y_test, test_probas)\nplot_lift_curve(y_test, test_probas)\nplot_precision_recall(y_test, test_probas)\nplot_ks_statistic(y_test, test_probas)\nplot_confusion_matrix(y_test, test_pred)",
   "execution_count": null
  }
 ]
}